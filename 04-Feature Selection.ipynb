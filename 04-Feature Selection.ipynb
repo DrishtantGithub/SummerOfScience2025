{
 "cells": [
  {
   "cell_type": "code",
   "execution_count": 1,
   "id": "8ed68e33-c730-4614-8499-b5d533bdfa0f",
   "metadata": {},
   "outputs": [],
   "source": [
    "import pandas as pd\n",
    "import matplotlib.pyplot as plt\n",
    "import seaborn as sns\n",
    "import numpy as np"
   ]
  },
  {
   "cell_type": "code",
   "execution_count": 2,
   "id": "2a7810d0-fb62-4dc9-9690-902814c9bb5f",
   "metadata": {},
   "outputs": [],
   "source": [
    "# When you increase the number of features a lot it hurts the model performance"
   ]
  },
  {
   "cell_type": "code",
   "execution_count": 3,
   "id": "862b7136-bf71-4d36-8e5c-ef113bb93739",
   "metadata": {},
   "outputs": [],
   "source": [
    "# Irrelevant features addition doesn't help our model but they will deteriorate the model performance"
   ]
  },
  {
   "cell_type": "code",
   "execution_count": 4,
   "id": "d076b266-31e7-4dd8-8f2b-1618fa33e363",
   "metadata": {},
   "outputs": [],
   "source": [
    "# Redundant Features In Machine Learning there is a saying that Garbage In is Garbage Out"
   ]
  },
  {
   "cell_type": "markdown",
   "id": "8b46216a-7079-466c-9785-d4519c050062",
   "metadata": {},
   "source": [
    "# Feature Selection Vs. Feature Extraction"
   ]
  },
  {
   "cell_type": "markdown",
   "id": "f84b1831-894a-40de-a2a8-4d034ac48fe1",
   "metadata": {},
   "source": [
    "##### Feature Selection is a way of selecting the subset of the most relevant features from the original features set by removing the redundant, irrelevant, or noisy features."
   ]
  },
  {
   "cell_type": "markdown",
   "id": "f669649e-a6fa-4e68-97c6-68ec8151b75a",
   "metadata": {},
   "source": [
    "##### Feature Extraction: It extracts out (create) new features from the existing ones. E.g. PCA"
   ]
  },
  {
   "cell_type": "markdown",
   "id": "36e80584-1948-428d-8257-d248bb06044e",
   "metadata": {},
   "source": [
    "#### Types of Feature Selection: 1) Filter Method : It Checks the relevance of the feature with the o/p variable."
   ]
  },
  {
   "cell_type": "markdown",
   "id": "240c43fe-d16d-414a-a950-f42e5d89e8b7",
   "metadata": {},
   "source": [
    "#### 1) You can Find the correlation between features and output.(Pearson Correlation Coefficient and Spearman Correlation Coefficient(when i/p and o/p are numbers))\n",
    "#### 2) You can use the simple scatter plot\n",
    "#### 3) Select K best (Using Sklearn---> Chi Square Test(categorical variable(i/p and o/p)) , ANOVA Test , F- Classification Test) "
   ]
  },
  {
   "cell_type": "markdown",
   "id": "aa3ddd4e-1a38-47e1-8e43-37d70457bc95",
   "metadata": {},
   "source": [
    "##### Wrapper Method : Model Agnostic , e.g. Forward Selection , Backward Elimination. Wrapper Methods are applied after ML model is applied. "
   ]
  },
  {
   "cell_type": "code",
   "execution_count": 6,
   "id": "7ea93f5b-2fb4-41fe-83a0-aa71c71f4ed4",
   "metadata": {},
   "outputs": [],
   "source": [
    "# Forward Feature Elimination Technique: Start with one feature and keep adding on feature and give ranking to the feature according to the performance of the model."
   ]
  },
  {
   "cell_type": "markdown",
   "id": "dc913d9b-7121-444b-8508-e1b549033150",
   "metadata": {},
   "source": [
    "### Embedded Method"
   ]
  },
  {
   "cell_type": "code",
   "execution_count": 7,
   "id": "1b6c83f8-8e32-4005-a252-c886f16363a9",
   "metadata": {},
   "outputs": [],
   "source": [
    "# --Combination of Filter Method(too easy) and Wrapper Method(too complex)\n",
    "# -- L1 regularisation , Decision Trees(Inbuilt facility to give ranking to features) , RandomForest etc."
   ]
  },
  {
   "cell_type": "code",
   "execution_count": 8,
   "id": "331185db-9bf3-4bf9-8e1e-af724f99a372",
   "metadata": {},
   "outputs": [],
   "source": [
    "# -- Feature Selection can be done using L1 Regularisation"
   ]
  },
  {
   "cell_type": "code",
   "execution_count": null,
   "id": "7cc2d327-acd3-4bba-be67-2364713ea396",
   "metadata": {},
   "outputs": [],
   "source": [
    "# The Data is of Mobile Price Classification"
   ]
  },
  {
   "cell_type": "code",
   "execution_count": 10,
   "id": "2febb881-3b23-4ba1-80d8-ab8867eeff21",
   "metadata": {},
   "outputs": [],
   "source": [
    "data = pd.read_csv('/Users/drishtant/Desktop/Machine Learning Essentials/train.csv')"
   ]
  },
  {
   "cell_type": "code",
   "execution_count": 14,
   "id": "27035863-380d-45a2-8311-8bf0b2998818",
   "metadata": {},
   "outputs": [
    {
     "data": {
      "text/plain": [
       "(2000, 21)"
      ]
     },
     "execution_count": 14,
     "metadata": {},
     "output_type": "execute_result"
    }
   ],
   "source": [
    "data.shape"
   ]
  },
  {
   "cell_type": "code",
   "execution_count": 26,
   "id": "11577692-8a42-4dee-9677-983b6f3e3566",
   "metadata": {},
   "outputs": [],
   "source": [
    "X = data.iloc[:,:-1]\n",
    "y = data.iloc[:,-1]"
   ]
  },
  {
   "cell_type": "code",
   "execution_count": 27,
   "id": "00e84803-ad56-4bf0-ad07-45e93fbc0212",
   "metadata": {},
   "outputs": [
    {
     "data": {
      "text/plain": [
       "(2000, 20)"
      ]
     },
     "execution_count": 27,
     "metadata": {},
     "output_type": "execute_result"
    }
   ],
   "source": [
    "X.shape"
   ]
  },
  {
   "cell_type": "code",
   "execution_count": 28,
   "id": "23100757-d8de-4d26-87a0-12a39d84fbf2",
   "metadata": {},
   "outputs": [],
   "source": [
    "mu = X.mean(axis=0)\n",
    "sig = X.std(axis = 0)"
   ]
  },
  {
   "cell_type": "code",
   "execution_count": 29,
   "id": "b75b702b-49d1-4b61-8eb1-9798b3d92b99",
   "metadata": {},
   "outputs": [],
   "source": [
    "X = (X-mu)/sig"
   ]
  },
  {
   "cell_type": "code",
   "execution_count": 30,
   "id": "765adaba-f91e-4e88-a84c-cbb3f6aa4327",
   "metadata": {},
   "outputs": [],
   "source": [
    "from sklearn.feature_selection import SelectKBest"
   ]
  },
  {
   "cell_type": "code",
   "execution_count": 31,
   "id": "dcd20c92-8aac-4bce-84b9-877ec0d035fc",
   "metadata": {},
   "outputs": [],
   "source": [
    "best_features = SelectKBest()"
   ]
  },
  {
   "cell_type": "code",
   "execution_count": 32,
   "id": "d7c44ad9-2bf7-4711-9f3f-4e5b88e6d112",
   "metadata": {},
   "outputs": [],
   "source": [
    "fit = best_features.fit(X,y)\n"
   ]
  },
  {
   "cell_type": "code",
   "execution_count": 33,
   "id": "f4bc7fb3-4860-413c-b080-9e238af7bb44",
   "metadata": {},
   "outputs": [
    {
     "name": "stdout",
     "output_type": "stream",
     "text": [
      "2000 2000\n"
     ]
    }
   ],
   "source": [
    "print(len(X), len(y))\n"
   ]
  },
  {
   "cell_type": "code",
   "execution_count": 35,
   "id": "e6b586dd-c1f7-4961-a888-9fe7b950da71",
   "metadata": {},
   "outputs": [
    {
     "data": {
      "text/plain": [
       "array([3.15981575e+01, 4.76767709e-01, 4.93707801e-01, 4.28239286e-01,\n",
       "       7.72181960e-01, 1.05952453e+00, 2.92299608e+00, 1.50068244e+00,\n",
       "       3.59431819e+00, 2.62541515e+00, 8.25446358e-01, 1.94848418e+01,\n",
       "       2.26208825e+01, 3.52011082e+03, 2.22598374e+00, 1.67099983e+00,\n",
       "       1.62881131e+00, 4.57319750e-01, 1.29330223e+00, 2.84940470e-01])"
      ]
     },
     "execution_count": 35,
     "metadata": {},
     "output_type": "execute_result"
    }
   ],
   "source": [
    "fit.scores_"
   ]
  },
  {
   "cell_type": "code",
   "execution_count": 36,
   "id": "5de79b7a-46da-4771-b763-f568f2603ddf",
   "metadata": {},
   "outputs": [],
   "source": [
    "dfscores = pd.DataFrame(fit.scores_)\n",
    "dfcolumns = pd.DataFrame(X.columns)"
   ]
  },
  {
   "cell_type": "code",
   "execution_count": 37,
   "id": "10c6c1d2-8e0e-4415-a8a1-c38d425278c6",
   "metadata": {},
   "outputs": [],
   "source": [
    "featureScores = pd.concat([dfcolumns, dfscores], axis = 1)\n",
    "featureScores.columns = ['Features','Scores']"
   ]
  },
  {
   "cell_type": "code",
   "execution_count": 38,
   "id": "382bb086-a705-4aa3-8a63-546b5d3d338b",
   "metadata": {},
   "outputs": [
    {
     "data": {
      "text/html": [
       "<div>\n",
       "<style scoped>\n",
       "    .dataframe tbody tr th:only-of-type {\n",
       "        vertical-align: middle;\n",
       "    }\n",
       "\n",
       "    .dataframe tbody tr th {\n",
       "        vertical-align: top;\n",
       "    }\n",
       "\n",
       "    .dataframe thead th {\n",
       "        text-align: right;\n",
       "    }\n",
       "</style>\n",
       "<table border=\"1\" class=\"dataframe\">\n",
       "  <thead>\n",
       "    <tr style=\"text-align: right;\">\n",
       "      <th></th>\n",
       "      <th>Features</th>\n",
       "      <th>Scores</th>\n",
       "    </tr>\n",
       "  </thead>\n",
       "  <tbody>\n",
       "    <tr>\n",
       "      <th>0</th>\n",
       "      <td>battery_power</td>\n",
       "      <td>31.598158</td>\n",
       "    </tr>\n",
       "    <tr>\n",
       "      <th>1</th>\n",
       "      <td>blue</td>\n",
       "      <td>0.476768</td>\n",
       "    </tr>\n",
       "    <tr>\n",
       "      <th>2</th>\n",
       "      <td>clock_speed</td>\n",
       "      <td>0.493708</td>\n",
       "    </tr>\n",
       "    <tr>\n",
       "      <th>3</th>\n",
       "      <td>dual_sim</td>\n",
       "      <td>0.428239</td>\n",
       "    </tr>\n",
       "    <tr>\n",
       "      <th>4</th>\n",
       "      <td>fc</td>\n",
       "      <td>0.772182</td>\n",
       "    </tr>\n",
       "    <tr>\n",
       "      <th>5</th>\n",
       "      <td>four_g</td>\n",
       "      <td>1.059525</td>\n",
       "    </tr>\n",
       "    <tr>\n",
       "      <th>6</th>\n",
       "      <td>int_memory</td>\n",
       "      <td>2.922996</td>\n",
       "    </tr>\n",
       "    <tr>\n",
       "      <th>7</th>\n",
       "      <td>m_dep</td>\n",
       "      <td>1.500682</td>\n",
       "    </tr>\n",
       "    <tr>\n",
       "      <th>8</th>\n",
       "      <td>mobile_wt</td>\n",
       "      <td>3.594318</td>\n",
       "    </tr>\n",
       "    <tr>\n",
       "      <th>9</th>\n",
       "      <td>n_cores</td>\n",
       "      <td>2.625415</td>\n",
       "    </tr>\n",
       "    <tr>\n",
       "      <th>10</th>\n",
       "      <td>pc</td>\n",
       "      <td>0.825446</td>\n",
       "    </tr>\n",
       "    <tr>\n",
       "      <th>11</th>\n",
       "      <td>px_height</td>\n",
       "      <td>19.484842</td>\n",
       "    </tr>\n",
       "    <tr>\n",
       "      <th>12</th>\n",
       "      <td>px_width</td>\n",
       "      <td>22.620882</td>\n",
       "    </tr>\n",
       "    <tr>\n",
       "      <th>13</th>\n",
       "      <td>ram</td>\n",
       "      <td>3520.110824</td>\n",
       "    </tr>\n",
       "    <tr>\n",
       "      <th>14</th>\n",
       "      <td>sc_h</td>\n",
       "      <td>2.225984</td>\n",
       "    </tr>\n",
       "    <tr>\n",
       "      <th>15</th>\n",
       "      <td>sc_w</td>\n",
       "      <td>1.671000</td>\n",
       "    </tr>\n",
       "    <tr>\n",
       "      <th>16</th>\n",
       "      <td>talk_time</td>\n",
       "      <td>1.628811</td>\n",
       "    </tr>\n",
       "    <tr>\n",
       "      <th>17</th>\n",
       "      <td>three_g</td>\n",
       "      <td>0.457320</td>\n",
       "    </tr>\n",
       "    <tr>\n",
       "      <th>18</th>\n",
       "      <td>touch_screen</td>\n",
       "      <td>1.293302</td>\n",
       "    </tr>\n",
       "    <tr>\n",
       "      <th>19</th>\n",
       "      <td>wifi</td>\n",
       "      <td>0.284940</td>\n",
       "    </tr>\n",
       "  </tbody>\n",
       "</table>\n",
       "</div>"
      ],
      "text/plain": [
       "         Features       Scores\n",
       "0   battery_power    31.598158\n",
       "1            blue     0.476768\n",
       "2     clock_speed     0.493708\n",
       "3        dual_sim     0.428239\n",
       "4              fc     0.772182\n",
       "5          four_g     1.059525\n",
       "6      int_memory     2.922996\n",
       "7           m_dep     1.500682\n",
       "8       mobile_wt     3.594318\n",
       "9         n_cores     2.625415\n",
       "10             pc     0.825446\n",
       "11      px_height    19.484842\n",
       "12       px_width    22.620882\n",
       "13            ram  3520.110824\n",
       "14           sc_h     2.225984\n",
       "15           sc_w     1.671000\n",
       "16      talk_time     1.628811\n",
       "17        three_g     0.457320\n",
       "18   touch_screen     1.293302\n",
       "19           wifi     0.284940"
      ]
     },
     "execution_count": 38,
     "metadata": {},
     "output_type": "execute_result"
    }
   ],
   "source": [
    "featureScores"
   ]
  },
  {
   "cell_type": "code",
   "execution_count": 40,
   "id": "71e4430a-3028-4ccf-a57d-bb9006c95cd0",
   "metadata": {},
   "outputs": [],
   "source": [
    "featureScores = featureScores.sort_values(by ='Scores',ascending  =False)"
   ]
  },
  {
   "cell_type": "code",
   "execution_count": 41,
   "id": "f122885f-3e42-4dc7-a1ac-ece429fb7996",
   "metadata": {},
   "outputs": [],
   "source": [
    "top_10 = list(featureScores[:10]['Features'].values)"
   ]
  },
  {
   "cell_type": "code",
   "execution_count": 42,
   "id": "f5fcc957-25f9-469d-95c5-ed4df58fbe75",
   "metadata": {},
   "outputs": [
    {
     "data": {
      "text/plain": [
       "['ram',\n",
       " 'battery_power',\n",
       " 'px_width',\n",
       " 'px_height',\n",
       " 'mobile_wt',\n",
       " 'int_memory',\n",
       " 'n_cores',\n",
       " 'sc_h',\n",
       " 'sc_w',\n",
       " 'talk_time']"
      ]
     },
     "execution_count": 42,
     "metadata": {},
     "output_type": "execute_result"
    }
   ],
   "source": [
    "top_10"
   ]
  },
  {
   "cell_type": "code",
   "execution_count": 43,
   "id": "739f4bc9-6f32-41a6-865f-2db43436eca5",
   "metadata": {},
   "outputs": [],
   "source": [
    "from sklearn.linear_model import LogisticRegression\n",
    "from sklearn.model_selection import cross_val_score"
   ]
  },
  {
   "cell_type": "code",
   "execution_count": 44,
   "id": "b6c3a5f8-f2dc-4cc4-b951-63516ecf30af",
   "metadata": {},
   "outputs": [
    {
     "data": {
      "text/html": [
       "<style>#sk-container-id-1 {color: black;background-color: white;}#sk-container-id-1 pre{padding: 0;}#sk-container-id-1 div.sk-toggleable {background-color: white;}#sk-container-id-1 label.sk-toggleable__label {cursor: pointer;display: block;width: 100%;margin-bottom: 0;padding: 0.3em;box-sizing: border-box;text-align: center;}#sk-container-id-1 label.sk-toggleable__label-arrow:before {content: \"▸\";float: left;margin-right: 0.25em;color: #696969;}#sk-container-id-1 label.sk-toggleable__label-arrow:hover:before {color: black;}#sk-container-id-1 div.sk-estimator:hover label.sk-toggleable__label-arrow:before {color: black;}#sk-container-id-1 div.sk-toggleable__content {max-height: 0;max-width: 0;overflow: hidden;text-align: left;background-color: #f0f8ff;}#sk-container-id-1 div.sk-toggleable__content pre {margin: 0.2em;color: black;border-radius: 0.25em;background-color: #f0f8ff;}#sk-container-id-1 input.sk-toggleable__control:checked~div.sk-toggleable__content {max-height: 200px;max-width: 100%;overflow: auto;}#sk-container-id-1 input.sk-toggleable__control:checked~label.sk-toggleable__label-arrow:before {content: \"▾\";}#sk-container-id-1 div.sk-estimator input.sk-toggleable__control:checked~label.sk-toggleable__label {background-color: #d4ebff;}#sk-container-id-1 div.sk-label input.sk-toggleable__control:checked~label.sk-toggleable__label {background-color: #d4ebff;}#sk-container-id-1 input.sk-hidden--visually {border: 0;clip: rect(1px 1px 1px 1px);clip: rect(1px, 1px, 1px, 1px);height: 1px;margin: -1px;overflow: hidden;padding: 0;position: absolute;width: 1px;}#sk-container-id-1 div.sk-estimator {font-family: monospace;background-color: #f0f8ff;border: 1px dotted black;border-radius: 0.25em;box-sizing: border-box;margin-bottom: 0.5em;}#sk-container-id-1 div.sk-estimator:hover {background-color: #d4ebff;}#sk-container-id-1 div.sk-parallel-item::after {content: \"\";width: 100%;border-bottom: 1px solid gray;flex-grow: 1;}#sk-container-id-1 div.sk-label:hover label.sk-toggleable__label {background-color: #d4ebff;}#sk-container-id-1 div.sk-serial::before {content: \"\";position: absolute;border-left: 1px solid gray;box-sizing: border-box;top: 0;bottom: 0;left: 50%;z-index: 0;}#sk-container-id-1 div.sk-serial {display: flex;flex-direction: column;align-items: center;background-color: white;padding-right: 0.2em;padding-left: 0.2em;position: relative;}#sk-container-id-1 div.sk-item {position: relative;z-index: 1;}#sk-container-id-1 div.sk-parallel {display: flex;align-items: stretch;justify-content: center;background-color: white;position: relative;}#sk-container-id-1 div.sk-item::before, #sk-container-id-1 div.sk-parallel-item::before {content: \"\";position: absolute;border-left: 1px solid gray;box-sizing: border-box;top: 0;bottom: 0;left: 50%;z-index: -1;}#sk-container-id-1 div.sk-parallel-item {display: flex;flex-direction: column;z-index: 1;position: relative;background-color: white;}#sk-container-id-1 div.sk-parallel-item:first-child::after {align-self: flex-end;width: 50%;}#sk-container-id-1 div.sk-parallel-item:last-child::after {align-self: flex-start;width: 50%;}#sk-container-id-1 div.sk-parallel-item:only-child::after {width: 0;}#sk-container-id-1 div.sk-dashed-wrapped {border: 1px dashed gray;margin: 0 0.4em 0.5em 0.4em;box-sizing: border-box;padding-bottom: 0.4em;background-color: white;}#sk-container-id-1 div.sk-label label {font-family: monospace;font-weight: bold;display: inline-block;line-height: 1.2em;}#sk-container-id-1 div.sk-label-container {text-align: center;}#sk-container-id-1 div.sk-container {/* jupyter's `normalize.less` sets `[hidden] { display: none; }` but bootstrap.min.css set `[hidden] { display: none !important; }` so we also need the `!important` here to be able to override the default hidden behavior on the sphinx rendered scikit-learn.org. See: https://github.com/scikit-learn/scikit-learn/issues/21755 */display: inline-block !important;position: relative;}#sk-container-id-1 div.sk-text-repr-fallback {display: none;}</style><div id=\"sk-container-id-1\" class=\"sk-top-container\"><div class=\"sk-text-repr-fallback\"><pre>LogisticRegression()</pre><b>In a Jupyter environment, please rerun this cell to show the HTML representation or trust the notebook. <br />On GitHub, the HTML representation is unable to render, please try loading this page with nbviewer.org.</b></div><div class=\"sk-container\" hidden><div class=\"sk-item\"><div class=\"sk-estimator sk-toggleable\"><input class=\"sk-toggleable__control sk-hidden--visually\" id=\"sk-estimator-id-1\" type=\"checkbox\" checked><label for=\"sk-estimator-id-1\" class=\"sk-toggleable__label sk-toggleable__label-arrow\">LogisticRegression</label><div class=\"sk-toggleable__content\"><pre>LogisticRegression()</pre></div></div></div></div></div>"
      ],
      "text/plain": [
       "LogisticRegression()"
      ]
     },
     "execution_count": 44,
     "metadata": {},
     "output_type": "execute_result"
    }
   ],
   "source": [
    "model = LogisticRegression()\n",
    "model.fit(X,y)"
   ]
  },
  {
   "cell_type": "code",
   "execution_count": 45,
   "id": "f7267e1b-cc02-4e62-88de-cc908b3d3598",
   "metadata": {},
   "outputs": [
    {
     "data": {
      "text/plain": [
       "0.9620000000000001"
      ]
     },
     "execution_count": 45,
     "metadata": {},
     "output_type": "execute_result"
    }
   ],
   "source": [
    "scores = cross_val_score(model,X,y,cv = 10)\n",
    "scores.mean()"
   ]
  },
  {
   "cell_type": "code",
   "execution_count": 46,
   "id": "f639e185-b9d6-4cb5-b5c3-be03dfb29112",
   "metadata": {},
   "outputs": [
    {
     "data": {
      "text/html": [
       "<div>\n",
       "<style scoped>\n",
       "    .dataframe tbody tr th:only-of-type {\n",
       "        vertical-align: middle;\n",
       "    }\n",
       "\n",
       "    .dataframe tbody tr th {\n",
       "        vertical-align: top;\n",
       "    }\n",
       "\n",
       "    .dataframe thead th {\n",
       "        text-align: right;\n",
       "    }\n",
       "</style>\n",
       "<table border=\"1\" class=\"dataframe\">\n",
       "  <thead>\n",
       "    <tr style=\"text-align: right;\">\n",
       "      <th></th>\n",
       "      <th>ram</th>\n",
       "      <th>battery_power</th>\n",
       "      <th>px_width</th>\n",
       "      <th>px_height</th>\n",
       "      <th>mobile_wt</th>\n",
       "      <th>int_memory</th>\n",
       "      <th>n_cores</th>\n",
       "      <th>sc_h</th>\n",
       "      <th>sc_w</th>\n",
       "      <th>talk_time</th>\n",
       "    </tr>\n",
       "  </thead>\n",
       "  <tbody>\n",
       "    <tr>\n",
       "      <th>0</th>\n",
       "      <td>0.391605</td>\n",
       "      <td>-0.902372</td>\n",
       "      <td>-1.146497</td>\n",
       "      <td>-1.408596</td>\n",
       "      <td>1.348911</td>\n",
       "      <td>-1.380298</td>\n",
       "      <td>-1.101696</td>\n",
       "      <td>-0.784787</td>\n",
       "      <td>0.283032</td>\n",
       "      <td>1.462128</td>\n",
       "    </tr>\n",
       "    <tr>\n",
       "      <th>1</th>\n",
       "      <td>0.467200</td>\n",
       "      <td>-0.495015</td>\n",
       "      <td>1.704039</td>\n",
       "      <td>0.585631</td>\n",
       "      <td>-0.120029</td>\n",
       "      <td>1.154735</td>\n",
       "      <td>-0.664602</td>\n",
       "      <td>1.113987</td>\n",
       "      <td>-0.635158</td>\n",
       "      <td>-0.734084</td>\n",
       "    </tr>\n",
       "    <tr>\n",
       "      <th>2</th>\n",
       "      <td>0.441387</td>\n",
       "      <td>-1.537302</td>\n",
       "      <td>1.074699</td>\n",
       "      <td>1.392336</td>\n",
       "      <td>0.134210</td>\n",
       "      <td>0.493422</td>\n",
       "      <td>0.209587</td>\n",
       "      <td>-0.310094</td>\n",
       "      <td>-0.864705</td>\n",
       "      <td>-0.368048</td>\n",
       "    </tr>\n",
       "    <tr>\n",
       "      <th>3</th>\n",
       "      <td>0.594421</td>\n",
       "      <td>-1.418964</td>\n",
       "      <td>1.236662</td>\n",
       "      <td>1.286428</td>\n",
       "      <td>-0.261274</td>\n",
       "      <td>-1.214970</td>\n",
       "      <td>0.646681</td>\n",
       "      <td>0.876640</td>\n",
       "      <td>0.512579</td>\n",
       "      <td>-0.002013</td>\n",
       "    </tr>\n",
       "    <tr>\n",
       "      <th>4</th>\n",
       "      <td>-0.657502</td>\n",
       "      <td>1.325574</td>\n",
       "      <td>-0.091429</td>\n",
       "      <td>1.268401</td>\n",
       "      <td>0.021215</td>\n",
       "      <td>0.658751</td>\n",
       "      <td>-1.101696</td>\n",
       "      <td>-1.022134</td>\n",
       "      <td>-0.864705</td>\n",
       "      <td>0.730057</td>\n",
       "    </tr>\n",
       "    <tr>\n",
       "      <th>...</th>\n",
       "      <td>...</td>\n",
       "      <td>...</td>\n",
       "      <td>...</td>\n",
       "      <td>...</td>\n",
       "      <td>...</td>\n",
       "      <td>...</td>\n",
       "      <td>...</td>\n",
       "      <td>...</td>\n",
       "      <td>...</td>\n",
       "      <td>...</td>\n",
       "    </tr>\n",
       "    <tr>\n",
       "      <th>1995</th>\n",
       "      <td>-1.342463</td>\n",
       "      <td>-1.011607</td>\n",
       "      <td>1.477291</td>\n",
       "      <td>1.299948</td>\n",
       "      <td>-0.967495</td>\n",
       "      <td>-1.655845</td>\n",
       "      <td>0.646681</td>\n",
       "      <td>0.164600</td>\n",
       "      <td>-0.405610</td>\n",
       "      <td>1.462128</td>\n",
       "    </tr>\n",
       "    <tr>\n",
       "      <th>1996</th>\n",
       "      <td>-0.085010</td>\n",
       "      <td>1.653280</td>\n",
       "      <td>1.650822</td>\n",
       "      <td>0.608165</td>\n",
       "      <td>1.320663</td>\n",
       "      <td>0.383203</td>\n",
       "      <td>-0.227507</td>\n",
       "      <td>-0.310094</td>\n",
       "      <td>0.971674</td>\n",
       "      <td>0.913075</td>\n",
       "    </tr>\n",
       "    <tr>\n",
       "      <th>1997</th>\n",
       "      <td>0.859924</td>\n",
       "      <td>1.530391</td>\n",
       "      <td>0.880345</td>\n",
       "      <td>0.502257</td>\n",
       "      <td>-0.910998</td>\n",
       "      <td>0.217875</td>\n",
       "      <td>1.520869</td>\n",
       "      <td>-0.784787</td>\n",
       "      <td>-1.094253</td>\n",
       "      <td>-1.100119</td>\n",
       "    </tr>\n",
       "    <tr>\n",
       "      <th>1998</th>\n",
       "      <td>-1.157164</td>\n",
       "      <td>0.622372</td>\n",
       "      <td>-1.345480</td>\n",
       "      <td>-0.696533</td>\n",
       "      <td>0.134210</td>\n",
       "      <td>0.768969</td>\n",
       "      <td>0.209587</td>\n",
       "      <td>1.351334</td>\n",
       "      <td>0.971674</td>\n",
       "      <td>1.462128</td>\n",
       "    </tr>\n",
       "    <tr>\n",
       "      <th>1999</th>\n",
       "      <td>1.654590</td>\n",
       "      <td>-1.657916</td>\n",
       "      <td>-1.151125</td>\n",
       "      <td>-0.365288</td>\n",
       "      <td>0.783934</td>\n",
       "      <td>0.713860</td>\n",
       "      <td>0.646681</td>\n",
       "      <td>1.588680</td>\n",
       "      <td>-0.405610</td>\n",
       "      <td>-1.649172</td>\n",
       "    </tr>\n",
       "  </tbody>\n",
       "</table>\n",
       "<p>2000 rows × 10 columns</p>\n",
       "</div>"
      ],
      "text/plain": [
       "           ram  battery_power  px_width  px_height  mobile_wt  int_memory  \\\n",
       "0     0.391605      -0.902372 -1.146497  -1.408596   1.348911   -1.380298   \n",
       "1     0.467200      -0.495015  1.704039   0.585631  -0.120029    1.154735   \n",
       "2     0.441387      -1.537302  1.074699   1.392336   0.134210    0.493422   \n",
       "3     0.594421      -1.418964  1.236662   1.286428  -0.261274   -1.214970   \n",
       "4    -0.657502       1.325574 -0.091429   1.268401   0.021215    0.658751   \n",
       "...        ...            ...       ...        ...        ...         ...   \n",
       "1995 -1.342463      -1.011607  1.477291   1.299948  -0.967495   -1.655845   \n",
       "1996 -0.085010       1.653280  1.650822   0.608165   1.320663    0.383203   \n",
       "1997  0.859924       1.530391  0.880345   0.502257  -0.910998    0.217875   \n",
       "1998 -1.157164       0.622372 -1.345480  -0.696533   0.134210    0.768969   \n",
       "1999  1.654590      -1.657916 -1.151125  -0.365288   0.783934    0.713860   \n",
       "\n",
       "       n_cores      sc_h      sc_w  talk_time  \n",
       "0    -1.101696 -0.784787  0.283032   1.462128  \n",
       "1    -0.664602  1.113987 -0.635158  -0.734084  \n",
       "2     0.209587 -0.310094 -0.864705  -0.368048  \n",
       "3     0.646681  0.876640  0.512579  -0.002013  \n",
       "4    -1.101696 -1.022134 -0.864705   0.730057  \n",
       "...        ...       ...       ...        ...  \n",
       "1995  0.646681  0.164600 -0.405610   1.462128  \n",
       "1996 -0.227507 -0.310094  0.971674   0.913075  \n",
       "1997  1.520869 -0.784787 -1.094253  -1.100119  \n",
       "1998  0.209587  1.351334  0.971674   1.462128  \n",
       "1999  0.646681  1.588680 -0.405610  -1.649172  \n",
       "\n",
       "[2000 rows x 10 columns]"
      ]
     },
     "execution_count": 46,
     "metadata": {},
     "output_type": "execute_result"
    }
   ],
   "source": [
    "X[top_10]"
   ]
  },
  {
   "cell_type": "code",
   "execution_count": 47,
   "id": "9b896c79-9662-4a17-8cb2-a8a0841fa265",
   "metadata": {},
   "outputs": [],
   "source": [
    "scores = cross_val_score(model,X[top_10],y,cv = 10)"
   ]
  },
  {
   "cell_type": "code",
   "execution_count": 48,
   "id": "138c8838-49c7-4041-9637-d0ab605c6c1d",
   "metadata": {},
   "outputs": [
    {
     "data": {
      "text/plain": [
       "0.9710000000000001"
      ]
     },
     "execution_count": 48,
     "metadata": {},
     "output_type": "execute_result"
    }
   ],
   "source": [
    "scores.mean()"
   ]
  },
  {
   "cell_type": "code",
   "execution_count": null,
   "id": "fe62cd79-9f61-4d6b-9295-c81d6b41d1fc",
   "metadata": {},
   "outputs": [],
   "source": [
    "# 20 is not considered very large dimension and the features that we deleted were not that irrelevant."
   ]
  }
 ],
 "metadata": {
  "kernelspec": {
   "display_name": "Python 3 (ipykernel)",
   "language": "python",
   "name": "python3"
  },
  "language_info": {
   "codemirror_mode": {
    "name": "ipython",
    "version": 3
   },
   "file_extension": ".py",
   "mimetype": "text/x-python",
   "name": "python",
   "nbconvert_exporter": "python",
   "pygments_lexer": "ipython3",
   "version": "3.11.7"
  }
 },
 "nbformat": 4,
 "nbformat_minor": 5
}
