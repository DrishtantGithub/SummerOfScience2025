{
 "cells": [
  {
   "cell_type": "code",
   "execution_count": 113,
   "id": "461d6eb2-8781-40d5-8315-93eb0d1e128b",
   "metadata": {},
   "outputs": [],
   "source": [
    "import pandas as pd\n",
    "import numpy as np\n",
    "import matplotlib.pyplot as plt\n",
    "import seaborn as sns"
   ]
  },
  {
   "cell_type": "code",
   "execution_count": 114,
   "id": "749197aa-1e49-4187-a680-997a6bbb8a03",
   "metadata": {},
   "outputs": [],
   "source": [
    "# Predicting Price of House is one of the popular features"
   ]
  },
  {
   "cell_type": "code",
   "execution_count": 115,
   "id": "7473a48c-ad94-47b4-b791-440795badcf9",
   "metadata": {},
   "outputs": [],
   "source": [
    "# X[0] is 1 always"
   ]
  },
  {
   "cell_type": "code",
   "execution_count": 116,
   "id": "6c523d0c-678f-4803-971a-058eb8965c94",
   "metadata": {},
   "outputs": [],
   "source": [
    "# We will not use a for loop because it's slow. We will use vectorization\n"
   ]
  },
  {
   "cell_type": "code",
   "execution_count": 117,
   "id": "568047ae-8537-4214-b83e-c5824f3baea6",
   "metadata": {},
   "outputs": [],
   "source": [
    "# 1.Data Preparation"
   ]
  },
  {
   "cell_type": "code",
   "execution_count": 118,
   "id": "92bfc7d6-dfd2-44a1-a53d-8447a06d024c",
   "metadata": {},
   "outputs": [],
   "source": [
    "from sklearn.datasets import make_regression # To generate some data"
   ]
  },
  {
   "cell_type": "code",
   "execution_count": 119,
   "id": "38710b61-b326-4746-ba93-249d045d0031",
   "metadata": {},
   "outputs": [],
   "source": [
    "X , y = make_regression(n_samples = 500 , n_features = 10,n_informative = 5 , noise = 25.8 , random_state = 42)"
   ]
  },
  {
   "cell_type": "code",
   "execution_count": 120,
   "id": "e14310e9-3ee2-46c4-a224-00200dda6798",
   "metadata": {},
   "outputs": [],
   "source": [
    "n_features = X.shape[1]"
   ]
  },
  {
   "cell_type": "code",
   "execution_count": 121,
   "id": "04904985-4aca-4e6c-8b1d-62ba89288d5d",
   "metadata": {},
   "outputs": [
    {
     "name": "stdout",
     "output_type": "stream",
     "text": [
      "(500, 10) (500,)\n"
     ]
    }
   ],
   "source": [
    "print(X.shape , y.shape)"
   ]
  },
  {
   "cell_type": "code",
   "execution_count": 122,
   "id": "301d274d-b4c9-4da6-bb7c-71c548ec6564",
   "metadata": {},
   "outputs": [
    {
     "data": {
      "text/html": [
       "<div>\n",
       "<style scoped>\n",
       "    .dataframe tbody tr th:only-of-type {\n",
       "        vertical-align: middle;\n",
       "    }\n",
       "\n",
       "    .dataframe tbody tr th {\n",
       "        vertical-align: top;\n",
       "    }\n",
       "\n",
       "    .dataframe thead th {\n",
       "        text-align: right;\n",
       "    }\n",
       "</style>\n",
       "<table border=\"1\" class=\"dataframe\">\n",
       "  <thead>\n",
       "    <tr style=\"text-align: right;\">\n",
       "      <th></th>\n",
       "      <th>0</th>\n",
       "      <th>1</th>\n",
       "      <th>2</th>\n",
       "      <th>3</th>\n",
       "      <th>4</th>\n",
       "      <th>5</th>\n",
       "      <th>6</th>\n",
       "      <th>7</th>\n",
       "      <th>8</th>\n",
       "      <th>9</th>\n",
       "    </tr>\n",
       "  </thead>\n",
       "  <tbody>\n",
       "    <tr>\n",
       "      <th>0</th>\n",
       "      <td>-1.222895</td>\n",
       "      <td>-0.918127</td>\n",
       "      <td>1.331339</td>\n",
       "      <td>1.239584</td>\n",
       "      <td>-0.396230</td>\n",
       "      <td>-1.293508</td>\n",
       "      <td>1.920368</td>\n",
       "      <td>0.071254</td>\n",
       "      <td>2.124771</td>\n",
       "      <td>-0.695695</td>\n",
       "    </tr>\n",
       "    <tr>\n",
       "      <th>1</th>\n",
       "      <td>-1.106526</td>\n",
       "      <td>-0.024125</td>\n",
       "      <td>1.126565</td>\n",
       "      <td>0.198085</td>\n",
       "      <td>-0.144360</td>\n",
       "      <td>0.059218</td>\n",
       "      <td>-0.268889</td>\n",
       "      <td>2.573360</td>\n",
       "      <td>1.848956</td>\n",
       "      <td>0.013929</td>\n",
       "    </tr>\n",
       "    <tr>\n",
       "      <th>2</th>\n",
       "      <td>0.184551</td>\n",
       "      <td>1.208366</td>\n",
       "      <td>2.558199</td>\n",
       "      <td>1.024063</td>\n",
       "      <td>0.592527</td>\n",
       "      <td>2.006093</td>\n",
       "      <td>-0.564248</td>\n",
       "      <td>1.542110</td>\n",
       "      <td>-0.551858</td>\n",
       "      <td>2.061504</td>\n",
       "    </tr>\n",
       "    <tr>\n",
       "      <th>3</th>\n",
       "      <td>0.558140</td>\n",
       "      <td>-1.151014</td>\n",
       "      <td>0.463289</td>\n",
       "      <td>0.386323</td>\n",
       "      <td>-0.204471</td>\n",
       "      <td>-0.296607</td>\n",
       "      <td>0.043515</td>\n",
       "      <td>-2.529560</td>\n",
       "      <td>0.414866</td>\n",
       "      <td>0.241322</td>\n",
       "    </tr>\n",
       "    <tr>\n",
       "      <th>4</th>\n",
       "      <td>-0.147603</td>\n",
       "      <td>-0.532701</td>\n",
       "      <td>-1.768439</td>\n",
       "      <td>-1.169917</td>\n",
       "      <td>-2.872262</td>\n",
       "      <td>-1.594703</td>\n",
       "      <td>0.323168</td>\n",
       "      <td>-0.466037</td>\n",
       "      <td>0.140886</td>\n",
       "      <td>0.513600</td>\n",
       "    </tr>\n",
       "  </tbody>\n",
       "</table>\n",
       "</div>"
      ],
      "text/plain": [
       "          0         1         2         3         4         5         6  \\\n",
       "0 -1.222895 -0.918127  1.331339  1.239584 -0.396230 -1.293508  1.920368   \n",
       "1 -1.106526 -0.024125  1.126565  0.198085 -0.144360  0.059218 -0.268889   \n",
       "2  0.184551  1.208366  2.558199  1.024063  0.592527  2.006093 -0.564248   \n",
       "3  0.558140 -1.151014  0.463289  0.386323 -0.204471 -0.296607  0.043515   \n",
       "4 -0.147603 -0.532701 -1.768439 -1.169917 -2.872262 -1.594703  0.323168   \n",
       "\n",
       "          7         8         9  \n",
       "0  0.071254  2.124771 -0.695695  \n",
       "1  2.573360  1.848956  0.013929  \n",
       "2  1.542110 -0.551858  2.061504  \n",
       "3 -2.529560  0.414866  0.241322  \n",
       "4 -0.466037  0.140886  0.513600  "
      ]
     },
     "execution_count": 122,
     "metadata": {},
     "output_type": "execute_result"
    }
   ],
   "source": [
    "pd.DataFrame(X).head()"
   ]
  },
  {
   "cell_type": "code",
   "execution_count": 123,
   "id": "9298a06f-7bd6-4534-b2e8-9024c834d8d2",
   "metadata": {},
   "outputs": [],
   "source": [
    "# Step - 2 Normalize the Data\n",
    "def normalize(X):\n",
    "    u = X.mean(axis=0)\n",
    "    std = X.std(axis = 0)\n",
    "\n",
    "    return (X-u)/std"
   ]
  },
  {
   "cell_type": "code",
   "execution_count": 124,
   "id": "7c86c83b-3c2d-4d42-b488-262d689793a2",
   "metadata": {},
   "outputs": [],
   "source": [
    "X = normalize(X)"
   ]
  },
  {
   "cell_type": "code",
   "execution_count": 125,
   "id": "65861c3e-b169-428f-b478-b7abb295c6c4",
   "metadata": {},
   "outputs": [],
   "source": [
    "# Data Visulalisation"
   ]
  },
  {
   "cell_type": "code",
   "execution_count": 126,
   "id": "3540328c-338c-4d16-a11e-a0153ee125a3",
   "metadata": {},
   "outputs": [
    {
     "data": {
      "image/png": "[encoded data removed]",
      "text/plain": [
       "<Figure size 640x480 with 10 Axes>"
      ]
     },
     "metadata": {},
     "output_type": "display_data"
    }
   ],
   "source": [
    "for f in range(0,10):\n",
    "    plt.subplot(4,3,f+1)\n",
    "    plt.scatter(X[:,f],y)\n",
    "plt.show()"
   ]
  },
  {
   "cell_type": "code",
   "execution_count": 127,
   "id": "4713689a-346e-4345-9f6d-2e84b269ea53",
   "metadata": {},
   "outputs": [],
   "source": [
    "# Step 4 : Train Test Split\n",
    "from sklearn.model_selection import train_test_split"
   ]
  },
  {
   "cell_type": "code",
   "execution_count": 128,
   "id": "842ad70e-265b-43c7-a01e-a37c4c22d4fb",
   "metadata": {},
   "outputs": [],
   "source": [
    "XT,Xt,yT,yt = train_test_split(X,y,test_size = 0.3,shuffle = False,random_state = 0)"
   ]
  },
  {
   "cell_type": "code",
   "execution_count": 129,
   "id": "cf15f04c-fea4-4993-b198-28efcce3d156",
   "metadata": {},
   "outputs": [
    {
     "name": "stdout",
     "output_type": "stream",
     "text": [
      "(350, 10) (350,)\n",
      "(150, 10) (150,)\n"
     ]
    }
   ],
   "source": [
    "print(XT.shape,yT.shape)\n",
    "print(Xt.shape,yt.shape)"
   ]
  },
  {
   "cell_type": "code",
   "execution_count": 130,
   "id": "0fc710aa-0579-44f4-81f9-c67c6fc987b8",
   "metadata": {},
   "outputs": [],
   "source": [
    "def preprocess(X):\n",
    "    if(X.shape[1]==n_features):\n",
    "        ones = np.ones((X.shape[0],1))\n",
    "        X = np.hstack((ones,X))\n",
    "    return X"
   ]
  },
  {
   "cell_type": "code",
   "execution_count": 131,
   "id": "7f985fcc-6986-49ca-8cba-9ca8b955e890",
   "metadata": {},
   "outputs": [],
   "source": [
    "XT = preprocess(XT)\n",
    "Xt = preprocess(Xt)"
   ]
  },
  {
   "cell_type": "code",
   "execution_count": 132,
   "id": "d9258c9f-5ec7-4b32-bf9e-2f2961a2c963",
   "metadata": {},
   "outputs": [
    {
     "data": {
      "text/plain": [
       "(150, 11)"
      ]
     },
     "execution_count": 132,
     "metadata": {},
     "output_type": "execute_result"
    }
   ],
   "source": [
    "XT.shape\n",
    "Xt.shape"
   ]
  },
  {
   "cell_type": "code",
   "execution_count": 133,
   "id": "d870b9fe-309c-4f53-9989-bedd0b1ab715",
   "metadata": {},
   "outputs": [],
   "source": [
    "# Step 05 Modelling / Linear Regression with Multiple Features"
   ]
  },
  {
   "cell_type": "code",
   "execution_count": 134,
   "id": "22ac3c3b-3569-40cb-98ce-eef66f31f7f0",
   "metadata": {},
   "outputs": [],
   "source": [
    "def hypothesis(X,theta):\n",
    "    return np.dot(X,theta)"
   ]
  },
  {
   "cell_type": "code",
   "execution_count": 135,
   "id": "81286e96-57e9-47cb-bcc2-ac4a2c54c482",
   "metadata": {},
   "outputs": [],
   "source": [
    "def loss(X,y,theta):\n",
    "    yp = hypothesis(X,theta)\n",
    "    error = np.mean((yp-y)**2)\n",
    "\n",
    "    return error"
   ]
  },
  {
   "cell_type": "code",
   "execution_count": 136,
   "id": "ed2a8bb1-f361-4324-8b6c-375807140b03",
   "metadata": {},
   "outputs": [],
   "source": [
    "def gradient(X,y,theta):\n",
    "    yp = hypothesis(X,theta)\n",
    "    grad = np.dot(X.T,(yp-y)) # here we have taken X Transpose because X is of dimension m * n+1 and (yp-y) is of dimension m*1\n",
    "    m = X.shape[0]\n",
    "    grad = grad/m\n",
    "    return grad"
   ]
  },
  {
   "cell_type": "code",
   "execution_count": 137,
   "id": "8c3a22ca-1779-4bb7-bee2-84703da3d576",
   "metadata": {},
   "outputs": [],
   "source": [
    "def train(X,y,learning_rate = 0.1 , maxItrs = 100):\n",
    "    n = X.shape[1]\n",
    "    theta = np.random.randn(n)\n",
    "    error_list = []\n",
    "    for i in range(maxItrs):\n",
    "        theta = theta - learning_rate*gradient(X,y,theta)\n",
    "        error_list.append(loss(X,y,theta))\n",
    "\n",
    "    plt.plot(error_list)\n",
    "    plt.grid()\n",
    "    return theta\n",
    "        \n",
    "    \n",
    "    "
   ]
  },
  {
   "cell_type": "code",
   "execution_count": 138,
   "id": "8bc8b553-d80e-4fe5-a2a7-68b788c5def0",
   "metadata": {},
   "outputs": [
    {
     "name": "stdout",
     "output_type": "stream",
     "text": [
      "[-3.53758502 27.11858256  1.27579992 20.21363593  1.66752561  2.03510728\n",
      " -0.28183921 45.57749563 24.40291933 14.89955697 -0.89816725]\n"
     ]
    },
    {
     "data": {
      "image/png": "[encoded data removed]",
      "text/plain": [
       "<Figure size 640x480 with 1 Axes>"
      ]
     },
     "metadata": {},
     "output_type": "display_data"
    }
   ],
   "source": [
    "theta = train(XT,yT)\n",
    "print(theta)"
   ]
  },
  {
   "cell_type": "code",
   "execution_count": 139,
   "id": "dc66da9b-4934-488c-92b5-ea09360a1b86",
   "metadata": {},
   "outputs": [],
   "source": [
    "# Model Evaluation\n",
    "\n",
    "def r2Score(y,yp):\n",
    "    ymean = y.mean()\n",
    "\n",
    "    num = np.sum((y-yp)**2)\n",
    "    den = np.sum((y-ymean)**2)\n",
    "\n",
    "    return(1-(num/den))"
   ]
  },
  {
   "cell_type": "code",
   "execution_count": 140,
   "id": "1fd4a8e7-06b3-44a5-a360-28142c0986b3",
   "metadata": {},
   "outputs": [],
   "source": [
    "yp = hypothesis(Xt,theta)\n"
   ]
  },
  {
   "cell_type": "code",
   "execution_count": 141,
   "id": "6e9d8967-7e5e-4d2d-8bb0-d152392d0b50",
   "metadata": {},
   "outputs": [
    {
     "data": {
      "text/plain": [
       "0.8996782305095125"
      ]
     },
     "execution_count": 141,
     "metadata": {},
     "output_type": "execute_result"
    }
   ],
   "source": [
    "r2Score(yt,yp) # more the noise more difficult to fit a hyperplane to the data"
   ]
  },
  {
   "cell_type": "code",
   "execution_count": 142,
   "id": "8e880dc5-c545-4852-927c-464b8ed96aec",
   "metadata": {},
   "outputs": [],
   "source": [
    "# Linear Regression using SK-learn"
   ]
  },
  {
   "cell_type": "code",
   "execution_count": 143,
   "id": "54c8b353-aa69-4521-b5ab-8060ce495bd3",
   "metadata": {},
   "outputs": [],
   "source": [
    "from sklearn.linear_model import LinearRegression"
   ]
  },
  {
   "cell_type": "code",
   "execution_count": 144,
   "id": "e7e8d6a4-42ca-4a36-b1e5-0f9669a51a49",
   "metadata": {},
   "outputs": [],
   "source": [
    "model = LinearRegression()"
   ]
  },
  {
   "cell_type": "code",
   "execution_count": 145,
   "id": "535c3f72-edbe-411e-ba35-b6d2336349dd",
   "metadata": {},
   "outputs": [
    {
     "data": {
      "text/html": [
       "<style>#sk-container-id-2 {color: black;background-color: white;}#sk-container-id-2 pre{padding: 0;}#sk-container-id-2 div.sk-toggleable {background-color: white;}#sk-container-id-2 label.sk-toggleable__label {cursor: pointer;display: block;width: 100%;margin-bottom: 0;padding: 0.3em;box-sizing: border-box;text-align: center;}#sk-container-id-2 label.sk-toggleable__label-arrow:before {content: \"▸\";float: left;margin-right: 0.25em;color: #696969;}#sk-container-id-2 label.sk-toggleable__label-arrow:hover:before {color: black;}#sk-container-id-2 div.sk-estimator:hover label.sk-toggleable__label-arrow:before {color: black;}#sk-container-id-2 div.sk-toggleable__content {max-height: 0;max-width: 0;overflow: hidden;text-align: left;background-color: #f0f8ff;}#sk-container-id-2 div.sk-toggleable__content pre {margin: 0.2em;color: black;border-radius: 0.25em;background-color: #f0f8ff;}#sk-container-id-2 input.sk-toggleable__control:checked~div.sk-toggleable__content {max-height: 200px;max-width: 100%;overflow: auto;}#sk-container-id-2 input.sk-toggleable__control:checked~label.sk-toggleable__label-arrow:before {content: \"▾\";}#sk-container-id-2 div.sk-estimator input.sk-toggleable__control:checked~label.sk-toggleable__label {background-color: #d4ebff;}#sk-container-id-2 div.sk-label input.sk-toggleable__control:checked~label.sk-toggleable__label {background-color: #d4ebff;}#sk-container-id-2 input.sk-hidden--visually {border: 0;clip: rect(1px 1px 1px 1px);clip: rect(1px, 1px, 1px, 1px);height: 1px;margin: -1px;overflow: hidden;padding: 0;position: absolute;width: 1px;}#sk-container-id-2 div.sk-estimator {font-family: monospace;background-color: #f0f8ff;border: 1px dotted black;border-radius: 0.25em;box-sizing: border-box;margin-bottom: 0.5em;}#sk-container-id-2 div.sk-estimator:hover {background-color: #d4ebff;}#sk-container-id-2 div.sk-parallel-item::after {content: \"\";width: 100%;border-bottom: 1px solid gray;flex-grow: 1;}#sk-container-id-2 div.sk-label:hover label.sk-toggleable__label {background-color: #d4ebff;}#sk-container-id-2 div.sk-serial::before {content: \"\";position: absolute;border-left: 1px solid gray;box-sizing: border-box;top: 0;bottom: 0;left: 50%;z-index: 0;}#sk-container-id-2 div.sk-serial {display: flex;flex-direction: column;align-items: center;background-color: white;padding-right: 0.2em;padding-left: 0.2em;position: relative;}#sk-container-id-2 div.sk-item {position: relative;z-index: 1;}#sk-container-id-2 div.sk-parallel {display: flex;align-items: stretch;justify-content: center;background-color: white;position: relative;}#sk-container-id-2 div.sk-item::before, #sk-container-id-2 div.sk-parallel-item::before {content: \"\";position: absolute;border-left: 1px solid gray;box-sizing: border-box;top: 0;bottom: 0;left: 50%;z-index: -1;}#sk-container-id-2 div.sk-parallel-item {display: flex;flex-direction: column;z-index: 1;position: relative;background-color: white;}#sk-container-id-2 div.sk-parallel-item:first-child::after {align-self: flex-end;width: 50%;}#sk-container-id-2 div.sk-parallel-item:last-child::after {align-self: flex-start;width: 50%;}#sk-container-id-2 div.sk-parallel-item:only-child::after {width: 0;}#sk-container-id-2 div.sk-dashed-wrapped {border: 1px dashed gray;margin: 0 0.4em 0.5em 0.4em;box-sizing: border-box;padding-bottom: 0.4em;background-color: white;}#sk-container-id-2 div.sk-label label {font-family: monospace;font-weight: bold;display: inline-block;line-height: 1.2em;}#sk-container-id-2 div.sk-label-container {text-align: center;}#sk-container-id-2 div.sk-container {/* jupyter's `normalize.less` sets `[hidden] { display: none; }` but bootstrap.min.css set `[hidden] { display: none !important; }` so we also need the `!important` here to be able to override the default hidden behavior on the sphinx rendered scikit-learn.org. See: https://github.com/scikit-learn/scikit-learn/issues/21755 */display: inline-block !important;position: relative;}#sk-container-id-2 div.sk-text-repr-fallback {display: none;}</style><div id=\"sk-container-id-2\" class=\"sk-top-container\"><div class=\"sk-text-repr-fallback\"><pre>LinearRegression()</pre><b>In a Jupyter environment, please rerun this cell to show the HTML representation or trust the notebook. <br />On GitHub, the HTML representation is unable to render, please try loading this page with nbviewer.org.</b></div><div class=\"sk-container\" hidden><div class=\"sk-item\"><div class=\"sk-estimator sk-toggleable\"><input class=\"sk-toggleable__control sk-hidden--visually\" id=\"sk-estimator-id-2\" type=\"checkbox\" checked><label for=\"sk-estimator-id-2\" class=\"sk-toggleable__label sk-toggleable__label-arrow\">LinearRegression</label><div class=\"sk-toggleable__content\"><pre>LinearRegression()</pre></div></div></div></div></div>"
      ],
      "text/plain": [
       "LinearRegression()"
      ]
     },
     "execution_count": 145,
     "metadata": {},
     "output_type": "execute_result"
    }
   ],
   "source": [
    "model.fit(XT,YT)"
   ]
  },
  {
   "cell_type": "code",
   "execution_count": 146,
   "id": "ebf4824b-adbc-4691-8922-d19044e1bb4a",
   "metadata": {},
   "outputs": [],
   "source": [
    "y_predict = model.predict(Xt)"
   ]
  },
  {
   "cell_type": "code",
   "execution_count": 147,
   "id": "e07cf5a1-c377-4901-97d5-0e3380576db3",
   "metadata": {},
   "outputs": [
    {
     "data": {
      "text/plain": [
       "(150,)"
      ]
     },
     "execution_count": 147,
     "metadata": {},
     "output_type": "execute_result"
    }
   ],
   "source": [
    "y_predict.shape"
   ]
  },
  {
   "cell_type": "code",
   "execution_count": 148,
   "id": "7e4a5706-1ea9-4cb3-ab54-3c03611ae8bb",
   "metadata": {},
   "outputs": [
    {
     "data": {
      "text/plain": [
       "0.1918794145588658"
      ]
     },
     "execution_count": 148,
     "metadata": {},
     "output_type": "execute_result"
    }
   ],
   "source": [
    "model.score(Xt,yt)"
   ]
  },
  {
   "cell_type": "code",
   "execution_count": 149,
   "id": "2ee944c9-00a3-4a72-b6c3-215cd6ceb28b",
   "metadata": {},
   "outputs": [
    {
     "data": {
      "text/plain": [
       "-6.858600689755139"
      ]
     },
     "execution_count": 149,
     "metadata": {},
     "output_type": "execute_result"
    }
   ],
   "source": [
    "model.intercept_"
   ]
  },
  {
   "cell_type": "code",
   "execution_count": 150,
   "id": "e8b5bad5-3dd6-4b48-9027-651f0b6540f3",
   "metadata": {},
   "outputs": [
    {
     "data": {
      "text/plain": [
       "array([  0.        ,   8.96463533,   1.9122084 ,  -5.25062658,\n",
       "         3.33405887, -12.42936885,  -3.60844086,   7.03345778,\n",
       "         3.17529964,  13.17132031,   4.19162789])"
      ]
     },
     "execution_count": 150,
     "metadata": {},
     "output_type": "execute_result"
    }
   ],
   "source": [
    "model.coef_"
   ]
  },
  {
   "cell_type": "code",
   "execution_count": null,
   "id": "6b38b345-76d2-45e6-80fd-7efa15d1b3c2",
   "metadata": {},
   "outputs": [],
   "source": []
  }
 ],
 "metadata": {
  "kernelspec": {
   "display_name": "Python 3 (ipykernel)",
   "language": "python",
   "name": "python3"
  },
  "language_info": {
   "codemirror_mode": {
    "name": "ipython",
    "version": 3
   },
   "file_extension": ".py",
   "mimetype": "text/x-python",
   "name": "python",
   "nbconvert_exporter": "python",
   "pygments_lexer": "ipython3",
   "version": "3.11.7"
  }
 },
 "nbformat": 4,
 "nbformat_minor": 5
}
