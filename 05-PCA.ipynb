{
 "cells": [
  {
   "cell_type": "code",
   "execution_count": 4,
   "id": "5413e5fa-acca-4ef7-bfd3-cae67e3e8023",
   "metadata": {},
   "outputs": [],
   "source": [
    "import pandas as pd\n",
    "import numpy as np\n",
    "import matplotlib.pyplot as plt"
   ]
  },
  {
   "cell_type": "code",
   "execution_count": 2,
   "id": "b0e1bd41-4f0b-4d9c-9911-6b139b13dff4",
   "metadata": {},
   "outputs": [],
   "source": [
    "# 1. PCA is dimensionality reduction technique\n",
    "# 2. It is Feature Extraction algorithm , not a feature selection.\n",
    "# 3. It converts n features to k where k<n"
   ]
  },
  {
   "cell_type": "code",
   "execution_count": 3,
   "id": "5a679be1-1c31-4ed7-8a82-332b7ed0c1ca",
   "metadata": {},
   "outputs": [],
   "source": [
    "# Applications of PCA\n",
    "# 1. Data Compression\n",
    "# 2. Data Visualisation\n",
    "# 3. Speed Up Computation\n"
   ]
  },
  {
   "cell_type": "code",
   "execution_count": 5,
   "id": "1129df87-dc58-4baf-9c85-699b2d24e1b2",
   "metadata": {},
   "outputs": [],
   "source": [
    "# Preserve the direction/feature having maximum variability(variance) . More Spread = More Information"
   ]
  },
  {
   "cell_type": "code",
   "execution_count": null,
   "id": "11164633-1dbe-4f58-9a23-429380e21d8d",
   "metadata": {},
   "outputs": [],
   "source": [
    "# PCA is unsupervised technique"
   ]
  },
  {
   "cell_type": "code",
   "execution_count": null,
   "id": "d4da8ecc-a765-4cd3-8a94-609773a5bf13",
   "metadata": {},
   "outputs": [],
   "source": [
    "# if the spread on X axis is less you can drop that axis . This way you can drop one dimension."
   ]
  },
  {
   "cell_type": "code",
   "execution_count": 6,
   "id": "ac53b274-4920-481f-ad66-af357edfbcc8",
   "metadata": {},
   "outputs": [],
   "source": [
    "# Find a direction such that the variance of xI projected onto the direction is maximised."
   ]
  },
  {
   "cell_type": "code",
   "execution_count": null,
   "id": "14b23451-22bf-417d-be97-8433c8efcd7b",
   "metadata": {},
   "outputs": [],
   "source": [
    "# More Variablity means you are giving more information."
   ]
  }
 ],
 "metadata": {
  "kernelspec": {
   "display_name": "Python 3 (ipykernel)",
   "language": "python",
   "name": "python3"
  },
  "language_info": {
   "codemirror_mode": {
    "name": "ipython",
    "version": 3
   },
   "file_extension": ".py",
   "mimetype": "text/x-python",
   "name": "python",
   "nbconvert_exporter": "python",
   "pygments_lexer": "ipython3",
   "version": "3.11.7"
  }
 },
 "nbformat": 4,
 "nbformat_minor": 5
}
